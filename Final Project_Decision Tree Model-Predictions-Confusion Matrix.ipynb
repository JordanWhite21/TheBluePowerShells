{
 "cells": [
  {
   "cell_type": "code",
   "execution_count": 1,
   "id": "d996174d",
   "metadata": {},
   "outputs": [],
   "source": [
    "#pip install -U sckit-learn"
   ]
  },
  {
   "cell_type": "code",
   "execution_count": 129,
   "id": "12fa79af",
   "metadata": {},
   "outputs": [
    {
     "name": "stdout",
     "output_type": "stream",
     "text": [
      "Requirement already satisfied: psycopg2-binary in /Users/erikahampton/opt/anaconda3/envs/PythonData/lib/python3.7/site-packages (2.9.3)\n",
      "Note: you may need to restart the kernel to use updated packages.\n"
     ]
    }
   ],
   "source": [
    "pip install psycopg2-binary"
   ]
  },
  {
   "cell_type": "code",
   "execution_count": 130,
   "id": "04b88bb2",
   "metadata": {},
   "outputs": [
    {
     "name": "stdout",
     "output_type": "stream",
     "text": [
      "Requirement already satisfied: graphviz in /Users/erikahampton/opt/anaconda3/envs/PythonData/lib/python3.7/site-packages (0.20)\n",
      "Note: you may need to restart the kernel to use updated packages.\n"
     ]
    }
   ],
   "source": [
    "pip install graphviz"
   ]
  },
  {
   "cell_type": "code",
   "execution_count": 175,
   "id": "4c6803d1",
   "metadata": {},
   "outputs": [],
   "source": [
    "import pandas as pd\n",
    "from path import Path\n",
    "from sklearn import tree\n",
    "from sklearn.preprocessing import StandardScaler\n",
    "from sklearn.model_selection import train_test_split\n",
    "from sklearn.metrics import confusion_matrix, accuracy_score, classification_report"
   ]
  },
  {
   "cell_type": "code",
   "execution_count": 176,
   "id": "c7878490",
   "metadata": {},
   "outputs": [
    {
     "data": {
      "text/html": [
       "<div>\n",
       "<style scoped>\n",
       "    .dataframe tbody tr th:only-of-type {\n",
       "        vertical-align: middle;\n",
       "    }\n",
       "\n",
       "    .dataframe tbody tr th {\n",
       "        vertical-align: top;\n",
       "    }\n",
       "\n",
       "    .dataframe thead th {\n",
       "        text-align: right;\n",
       "    }\n",
       "</style>\n",
       "<table border=\"1\" class=\"dataframe\">\n",
       "  <thead>\n",
       "    <tr style=\"text-align: right;\">\n",
       "      <th></th>\n",
       "      <th>course_name</th>\n",
       "      <th>driver_id</th>\n",
       "      <th>name</th>\n",
       "      <th>special_skill</th>\n",
       "      <th>rarity</th>\n",
       "      <th>win_loss</th>\n",
       "    </tr>\n",
       "  </thead>\n",
       "  <tbody>\n",
       "    <tr>\n",
       "      <th>0</th>\n",
       "      <td>DS Waluigi Pinball</td>\n",
       "      <td>1</td>\n",
       "      <td>Baby Mario</td>\n",
       "      <td>Normal</td>\n",
       "      <td>Boomerang Flower</td>\n",
       "      <td>1</td>\n",
       "    </tr>\n",
       "    <tr>\n",
       "      <th>1</th>\n",
       "      <td>SNES Mario Circuit 1T</td>\n",
       "      <td>1</td>\n",
       "      <td>Baby Mario</td>\n",
       "      <td>Normal</td>\n",
       "      <td>Boomerang Flower</td>\n",
       "      <td>1</td>\n",
       "    </tr>\n",
       "    <tr>\n",
       "      <th>2</th>\n",
       "      <td>3DS Cheep Cheep Lagoon</td>\n",
       "      <td>2</td>\n",
       "      <td>Baby Peach</td>\n",
       "      <td>Normal</td>\n",
       "      <td>Bubble</td>\n",
       "      <td>1</td>\n",
       "    </tr>\n",
       "    <tr>\n",
       "      <th>3</th>\n",
       "      <td>3DS Daisy Hills R/T</td>\n",
       "      <td>2</td>\n",
       "      <td>Baby Peach</td>\n",
       "      <td>Normal</td>\n",
       "      <td>Bubble</td>\n",
       "      <td>1</td>\n",
       "    </tr>\n",
       "    <tr>\n",
       "      <th>4</th>\n",
       "      <td>3DS Daisy Hills T</td>\n",
       "      <td>3</td>\n",
       "      <td>Baby Daisy</td>\n",
       "      <td>Normal</td>\n",
       "      <td>Bubble</td>\n",
       "      <td>1</td>\n",
       "    </tr>\n",
       "    <tr>\n",
       "      <th>...</th>\n",
       "      <td>...</td>\n",
       "      <td>...</td>\n",
       "      <td>...</td>\n",
       "      <td>...</td>\n",
       "      <td>...</td>\n",
       "      <td>...</td>\n",
       "    </tr>\n",
       "    <tr>\n",
       "      <th>535</th>\n",
       "      <td>3DS Neo Bowser City T</td>\n",
       "      <td>102</td>\n",
       "      <td>Waluigi (Bus Driver)</td>\n",
       "      <td>High-End</td>\n",
       "      <td>Triple Bananas</td>\n",
       "      <td>0</td>\n",
       "    </tr>\n",
       "    <tr>\n",
       "      <th>536</th>\n",
       "      <td>Vancouver Velocity R</td>\n",
       "      <td>104</td>\n",
       "      <td>Wario (Hiker)</td>\n",
       "      <td>High-End</td>\n",
       "      <td>Bob-omb Cannon</td>\n",
       "      <td>0</td>\n",
       "    </tr>\n",
       "    <tr>\n",
       "      <th>537</th>\n",
       "      <td>GBA Bowser's Castle 2T</td>\n",
       "      <td>105</td>\n",
       "      <td>Dry Bones (Gold)</td>\n",
       "      <td>High-End</td>\n",
       "      <td>Coin Box</td>\n",
       "      <td>0</td>\n",
       "    </tr>\n",
       "    <tr>\n",
       "      <th>538</th>\n",
       "      <td>DS Airship Fortress R</td>\n",
       "      <td>108</td>\n",
       "      <td>Dry Bowser (Gold)</td>\n",
       "      <td>High-End</td>\n",
       "      <td>Bob-omb Cannon</td>\n",
       "      <td>0</td>\n",
       "    </tr>\n",
       "    <tr>\n",
       "      <th>539</th>\n",
       "      <td>3DS Rosalina's Ice World</td>\n",
       "      <td>110</td>\n",
       "      <td>Nabbit</td>\n",
       "      <td>High-End</td>\n",
       "      <td>Wild West Tour</td>\n",
       "      <td>0</td>\n",
       "    </tr>\n",
       "  </tbody>\n",
       "</table>\n",
       "<p>540 rows × 6 columns</p>\n",
       "</div>"
      ],
      "text/plain": [
       "                  course_name  driver_id                  name special_skill  \\\n",
       "0          DS Waluigi Pinball          1            Baby Mario        Normal   \n",
       "1       SNES Mario Circuit 1T          1            Baby Mario        Normal   \n",
       "2      3DS Cheep Cheep Lagoon          2            Baby Peach        Normal   \n",
       "3         3DS Daisy Hills R/T          2            Baby Peach        Normal   \n",
       "4           3DS Daisy Hills T          3            Baby Daisy        Normal   \n",
       "..                        ...        ...                   ...           ...   \n",
       "535     3DS Neo Bowser City T        102  Waluigi (Bus Driver)      High-End   \n",
       "536      Vancouver Velocity R        104         Wario (Hiker)      High-End   \n",
       "537    GBA Bowser's Castle 2T        105      Dry Bones (Gold)      High-End   \n",
       "538     DS Airship Fortress R        108     Dry Bowser (Gold)      High-End   \n",
       "539  3DS Rosalina's Ice World        110                Nabbit      High-End   \n",
       "\n",
       "               rarity  win_loss  \n",
       "0    Boomerang Flower         1  \n",
       "1    Boomerang Flower         1  \n",
       "2              Bubble         1  \n",
       "3              Bubble         1  \n",
       "4              Bubble         1  \n",
       "..                ...       ...  \n",
       "535    Triple Bananas         0  \n",
       "536    Bob-omb Cannon         0  \n",
       "537          Coin Box         0  \n",
       "538    Bob-omb Cannon         0  \n",
       "539    Wild West Tour         0  \n",
       "\n",
       "[540 rows x 6 columns]"
      ]
     },
     "execution_count": 176,
     "metadata": {},
     "output_type": "execute_result"
    }
   ],
   "source": [
    "#Importing Dataset\n",
    "data = 'Resources/final_mariokart_data.csv'\n",
    "df = pd.read_csv (data)\n",
    "df"
   ]
  },
  {
   "cell_type": "code",
   "execution_count": 177,
   "id": "0caeb1af",
   "metadata": {},
   "outputs": [
    {
     "data": {
      "text/html": [
       "<div>\n",
       "<style scoped>\n",
       "    .dataframe tbody tr th:only-of-type {\n",
       "        vertical-align: middle;\n",
       "    }\n",
       "\n",
       "    .dataframe tbody tr th {\n",
       "        vertical-align: top;\n",
       "    }\n",
       "\n",
       "    .dataframe thead th {\n",
       "        text-align: right;\n",
       "    }\n",
       "</style>\n",
       "<table border=\"1\" class=\"dataframe\">\n",
       "  <thead>\n",
       "    <tr style=\"text-align: right;\">\n",
       "      <th></th>\n",
       "      <th>course_name</th>\n",
       "      <th>name</th>\n",
       "      <th>special_skill</th>\n",
       "      <th>rarity</th>\n",
       "      <th>win_loss</th>\n",
       "    </tr>\n",
       "  </thead>\n",
       "  <tbody>\n",
       "    <tr>\n",
       "      <th>0</th>\n",
       "      <td>DS Waluigi Pinball</td>\n",
       "      <td>Baby Mario</td>\n",
       "      <td>Normal</td>\n",
       "      <td>Boomerang Flower</td>\n",
       "      <td>1</td>\n",
       "    </tr>\n",
       "    <tr>\n",
       "      <th>1</th>\n",
       "      <td>SNES Mario Circuit 1T</td>\n",
       "      <td>Baby Mario</td>\n",
       "      <td>Normal</td>\n",
       "      <td>Boomerang Flower</td>\n",
       "      <td>1</td>\n",
       "    </tr>\n",
       "    <tr>\n",
       "      <th>2</th>\n",
       "      <td>3DS Cheep Cheep Lagoon</td>\n",
       "      <td>Baby Peach</td>\n",
       "      <td>Normal</td>\n",
       "      <td>Bubble</td>\n",
       "      <td>1</td>\n",
       "    </tr>\n",
       "    <tr>\n",
       "      <th>3</th>\n",
       "      <td>3DS Daisy Hills R/T</td>\n",
       "      <td>Baby Peach</td>\n",
       "      <td>Normal</td>\n",
       "      <td>Bubble</td>\n",
       "      <td>1</td>\n",
       "    </tr>\n",
       "    <tr>\n",
       "      <th>4</th>\n",
       "      <td>3DS Daisy Hills T</td>\n",
       "      <td>Baby Daisy</td>\n",
       "      <td>Normal</td>\n",
       "      <td>Bubble</td>\n",
       "      <td>1</td>\n",
       "    </tr>\n",
       "    <tr>\n",
       "      <th>...</th>\n",
       "      <td>...</td>\n",
       "      <td>...</td>\n",
       "      <td>...</td>\n",
       "      <td>...</td>\n",
       "      <td>...</td>\n",
       "    </tr>\n",
       "    <tr>\n",
       "      <th>535</th>\n",
       "      <td>3DS Neo Bowser City T</td>\n",
       "      <td>Waluigi (Bus Driver)</td>\n",
       "      <td>High-End</td>\n",
       "      <td>Triple Bananas</td>\n",
       "      <td>0</td>\n",
       "    </tr>\n",
       "    <tr>\n",
       "      <th>536</th>\n",
       "      <td>Vancouver Velocity R</td>\n",
       "      <td>Wario (Hiker)</td>\n",
       "      <td>High-End</td>\n",
       "      <td>Bob-omb Cannon</td>\n",
       "      <td>0</td>\n",
       "    </tr>\n",
       "    <tr>\n",
       "      <th>537</th>\n",
       "      <td>GBA Bowser's Castle 2T</td>\n",
       "      <td>Dry Bones (Gold)</td>\n",
       "      <td>High-End</td>\n",
       "      <td>Coin Box</td>\n",
       "      <td>0</td>\n",
       "    </tr>\n",
       "    <tr>\n",
       "      <th>538</th>\n",
       "      <td>DS Airship Fortress R</td>\n",
       "      <td>Dry Bowser (Gold)</td>\n",
       "      <td>High-End</td>\n",
       "      <td>Bob-omb Cannon</td>\n",
       "      <td>0</td>\n",
       "    </tr>\n",
       "    <tr>\n",
       "      <th>539</th>\n",
       "      <td>3DS Rosalina's Ice World</td>\n",
       "      <td>Nabbit</td>\n",
       "      <td>High-End</td>\n",
       "      <td>Wild West Tour</td>\n",
       "      <td>0</td>\n",
       "    </tr>\n",
       "  </tbody>\n",
       "</table>\n",
       "<p>540 rows × 5 columns</p>\n",
       "</div>"
      ],
      "text/plain": [
       "                  course_name                  name special_skill  \\\n",
       "0          DS Waluigi Pinball            Baby Mario        Normal   \n",
       "1       SNES Mario Circuit 1T            Baby Mario        Normal   \n",
       "2      3DS Cheep Cheep Lagoon            Baby Peach        Normal   \n",
       "3         3DS Daisy Hills R/T            Baby Peach        Normal   \n",
       "4           3DS Daisy Hills T            Baby Daisy        Normal   \n",
       "..                        ...                   ...           ...   \n",
       "535     3DS Neo Bowser City T  Waluigi (Bus Driver)      High-End   \n",
       "536      Vancouver Velocity R         Wario (Hiker)      High-End   \n",
       "537    GBA Bowser's Castle 2T      Dry Bones (Gold)      High-End   \n",
       "538     DS Airship Fortress R     Dry Bowser (Gold)      High-End   \n",
       "539  3DS Rosalina's Ice World                Nabbit      High-End   \n",
       "\n",
       "               rarity  win_loss  \n",
       "0    Boomerang Flower         1  \n",
       "1    Boomerang Flower         1  \n",
       "2              Bubble         1  \n",
       "3              Bubble         1  \n",
       "4              Bubble         1  \n",
       "..                ...       ...  \n",
       "535    Triple Bananas         0  \n",
       "536    Bob-omb Cannon         0  \n",
       "537          Coin Box         0  \n",
       "538    Bob-omb Cannon         0  \n",
       "539    Wild West Tour         0  \n",
       "\n",
       "[540 rows x 5 columns]"
      ]
     },
     "execution_count": 177,
     "metadata": {},
     "output_type": "execute_result"
    }
   ],
   "source": [
    "#Remove driver_id column\n",
    "df.drop('driver_id', axis=1, inplace=True)\n",
    "df"
   ]
  },
  {
   "cell_type": "code",
   "execution_count": 178,
   "id": "4b5e8ecd",
   "metadata": {},
   "outputs": [
    {
     "data": {
      "text/plain": [
       "course_name      object\n",
       "name             object\n",
       "special_skill    object\n",
       "rarity           object\n",
       "win_loss          int64\n",
       "dtype: object"
      ]
     },
     "execution_count": 178,
     "metadata": {},
     "output_type": "execute_result"
    }
   ],
   "source": [
    "#Check the datatypes\n",
    "df.dtypes"
   ]
  },
  {
   "cell_type": "code",
   "execution_count": 179,
   "id": "af8918e7",
   "metadata": {},
   "outputs": [],
   "source": [
    "#Set win_loss as target\n",
    "inputs = df"
   ]
  },
  {
   "cell_type": "code",
   "execution_count": 180,
   "id": "756711ea",
   "metadata": {},
   "outputs": [],
   "source": [
    "#Add Encoder Library\n",
    "from sklearn.preprocessing import LabelEncoder"
   ]
  },
  {
   "cell_type": "code",
   "execution_count": 181,
   "id": "f1b83032",
   "metadata": {},
   "outputs": [],
   "source": [
    "#Identify columns to encode\n",
    "le_course_name = LabelEncoder()\n",
    "le_name = LabelEncoder()\n",
    "le_special_skill = LabelEncoder()\n",
    "le_rarity = LabelEncoder()"
   ]
  },
  {
   "cell_type": "code",
   "execution_count": 182,
   "id": "b36a78e8",
   "metadata": {},
   "outputs": [
    {
     "data": {
      "text/html": [
       "<div>\n",
       "<style scoped>\n",
       "    .dataframe tbody tr th:only-of-type {\n",
       "        vertical-align: middle;\n",
       "    }\n",
       "\n",
       "    .dataframe tbody tr th {\n",
       "        vertical-align: top;\n",
       "    }\n",
       "\n",
       "    .dataframe thead th {\n",
       "        text-align: right;\n",
       "    }\n",
       "</style>\n",
       "<table border=\"1\" class=\"dataframe\">\n",
       "  <thead>\n",
       "    <tr style=\"text-align: right;\">\n",
       "      <th></th>\n",
       "      <th>course_name</th>\n",
       "      <th>name</th>\n",
       "      <th>special_skill</th>\n",
       "      <th>rarity</th>\n",
       "      <th>win_loss</th>\n",
       "      <th>course_name_new</th>\n",
       "      <th>name_new</th>\n",
       "      <th>special_skill_new</th>\n",
       "      <th>rarity_new</th>\n",
       "    </tr>\n",
       "  </thead>\n",
       "  <tbody>\n",
       "    <tr>\n",
       "      <th>0</th>\n",
       "      <td>DS Waluigi Pinball</td>\n",
       "      <td>Baby Mario</td>\n",
       "      <td>Normal</td>\n",
       "      <td>Boomerang Flower</td>\n",
       "      <td>1</td>\n",
       "      <td>46</td>\n",
       "      <td>2</td>\n",
       "      <td>1</td>\n",
       "      <td>3</td>\n",
       "    </tr>\n",
       "    <tr>\n",
       "      <th>1</th>\n",
       "      <td>SNES Mario Circuit 1T</td>\n",
       "      <td>Baby Mario</td>\n",
       "      <td>Normal</td>\n",
       "      <td>Boomerang Flower</td>\n",
       "      <td>1</td>\n",
       "      <td>147</td>\n",
       "      <td>2</td>\n",
       "      <td>1</td>\n",
       "      <td>3</td>\n",
       "    </tr>\n",
       "    <tr>\n",
       "      <th>2</th>\n",
       "      <td>3DS Cheep Cheep Lagoon</td>\n",
       "      <td>Baby Peach</td>\n",
       "      <td>Normal</td>\n",
       "      <td>Bubble</td>\n",
       "      <td>1</td>\n",
       "      <td>0</td>\n",
       "      <td>3</td>\n",
       "      <td>1</td>\n",
       "      <td>5</td>\n",
       "    </tr>\n",
       "    <tr>\n",
       "      <th>3</th>\n",
       "      <td>3DS Daisy Hills R/T</td>\n",
       "      <td>Baby Peach</td>\n",
       "      <td>Normal</td>\n",
       "      <td>Bubble</td>\n",
       "      <td>1</td>\n",
       "      <td>6</td>\n",
       "      <td>3</td>\n",
       "      <td>1</td>\n",
       "      <td>5</td>\n",
       "    </tr>\n",
       "    <tr>\n",
       "      <th>4</th>\n",
       "      <td>3DS Daisy Hills T</td>\n",
       "      <td>Baby Daisy</td>\n",
       "      <td>Normal</td>\n",
       "      <td>Bubble</td>\n",
       "      <td>1</td>\n",
       "      <td>7</td>\n",
       "      <td>0</td>\n",
       "      <td>1</td>\n",
       "      <td>5</td>\n",
       "    </tr>\n",
       "  </tbody>\n",
       "</table>\n",
       "</div>"
      ],
      "text/plain": [
       "              course_name        name special_skill            rarity  \\\n",
       "0      DS Waluigi Pinball  Baby Mario        Normal  Boomerang Flower   \n",
       "1   SNES Mario Circuit 1T  Baby Mario        Normal  Boomerang Flower   \n",
       "2  3DS Cheep Cheep Lagoon  Baby Peach        Normal            Bubble   \n",
       "3     3DS Daisy Hills R/T  Baby Peach        Normal            Bubble   \n",
       "4       3DS Daisy Hills T  Baby Daisy        Normal            Bubble   \n",
       "\n",
       "   win_loss  course_name_new  name_new  special_skill_new  rarity_new  \n",
       "0         1               46         2                  1           3  \n",
       "1         1              147         2                  1           3  \n",
       "2         1                0         3                  1           5  \n",
       "3         1                6         3                  1           5  \n",
       "4         1                7         0                  1           5  "
      ]
     },
     "execution_count": 182,
     "metadata": {},
     "output_type": "execute_result"
    }
   ],
   "source": [
    "#Encode columns, associate a number to text\n",
    "inputs['course_name_new'] = le_course_name.fit_transform(inputs['course_name'])\n",
    "inputs['name_new'] = le_name.fit_transform(inputs['name'])\n",
    "inputs['special_skill_new'] = le_name.fit_transform(inputs['special_skill'])\n",
    "inputs['rarity_new'] = le_name.fit_transform(inputs['rarity'])\n",
    "inputs.head()"
   ]
  },
  {
   "cell_type": "code",
   "execution_count": 183,
   "id": "b402977b",
   "metadata": {},
   "outputs": [
    {
     "data": {
      "text/html": [
       "<div>\n",
       "<style scoped>\n",
       "    .dataframe tbody tr th:only-of-type {\n",
       "        vertical-align: middle;\n",
       "    }\n",
       "\n",
       "    .dataframe tbody tr th {\n",
       "        vertical-align: top;\n",
       "    }\n",
       "\n",
       "    .dataframe thead th {\n",
       "        text-align: right;\n",
       "    }\n",
       "</style>\n",
       "<table border=\"1\" class=\"dataframe\">\n",
       "  <thead>\n",
       "    <tr style=\"text-align: right;\">\n",
       "      <th></th>\n",
       "      <th>win_loss</th>\n",
       "      <th>course_name_new</th>\n",
       "      <th>name_new</th>\n",
       "      <th>special_skill_new</th>\n",
       "      <th>rarity_new</th>\n",
       "    </tr>\n",
       "  </thead>\n",
       "  <tbody>\n",
       "    <tr>\n",
       "      <th>0</th>\n",
       "      <td>1</td>\n",
       "      <td>46</td>\n",
       "      <td>2</td>\n",
       "      <td>1</td>\n",
       "      <td>3</td>\n",
       "    </tr>\n",
       "    <tr>\n",
       "      <th>1</th>\n",
       "      <td>1</td>\n",
       "      <td>147</td>\n",
       "      <td>2</td>\n",
       "      <td>1</td>\n",
       "      <td>3</td>\n",
       "    </tr>\n",
       "    <tr>\n",
       "      <th>2</th>\n",
       "      <td>1</td>\n",
       "      <td>0</td>\n",
       "      <td>3</td>\n",
       "      <td>1</td>\n",
       "      <td>5</td>\n",
       "    </tr>\n",
       "    <tr>\n",
       "      <th>3</th>\n",
       "      <td>1</td>\n",
       "      <td>6</td>\n",
       "      <td>3</td>\n",
       "      <td>1</td>\n",
       "      <td>5</td>\n",
       "    </tr>\n",
       "    <tr>\n",
       "      <th>4</th>\n",
       "      <td>1</td>\n",
       "      <td>7</td>\n",
       "      <td>0</td>\n",
       "      <td>1</td>\n",
       "      <td>5</td>\n",
       "    </tr>\n",
       "    <tr>\n",
       "      <th>...</th>\n",
       "      <td>...</td>\n",
       "      <td>...</td>\n",
       "      <td>...</td>\n",
       "      <td>...</td>\n",
       "      <td>...</td>\n",
       "    </tr>\n",
       "    <tr>\n",
       "      <th>535</th>\n",
       "      <td>0</td>\n",
       "      <td>14</td>\n",
       "      <td>95</td>\n",
       "      <td>0</td>\n",
       "      <td>18</td>\n",
       "    </tr>\n",
       "    <tr>\n",
       "      <th>536</th>\n",
       "      <td>0</td>\n",
       "      <td>172</td>\n",
       "      <td>97</td>\n",
       "      <td>0</td>\n",
       "      <td>2</td>\n",
       "    </tr>\n",
       "    <tr>\n",
       "      <th>537</th>\n",
       "      <td>0</td>\n",
       "      <td>56</td>\n",
       "      <td>29</td>\n",
       "      <td>0</td>\n",
       "      <td>6</td>\n",
       "    </tr>\n",
       "    <tr>\n",
       "      <th>538</th>\n",
       "      <td>0</td>\n",
       "      <td>36</td>\n",
       "      <td>31</td>\n",
       "      <td>0</td>\n",
       "      <td>2</td>\n",
       "    </tr>\n",
       "    <tr>\n",
       "      <th>539</th>\n",
       "      <td>0</td>\n",
       "      <td>22</td>\n",
       "      <td>64</td>\n",
       "      <td>0</td>\n",
       "      <td>21</td>\n",
       "    </tr>\n",
       "  </tbody>\n",
       "</table>\n",
       "<p>540 rows × 5 columns</p>\n",
       "</div>"
      ],
      "text/plain": [
       "     win_loss  course_name_new  name_new  special_skill_new  rarity_new\n",
       "0           1               46         2                  1           3\n",
       "1           1              147         2                  1           3\n",
       "2           1                0         3                  1           5\n",
       "3           1                6         3                  1           5\n",
       "4           1                7         0                  1           5\n",
       "..        ...              ...       ...                ...         ...\n",
       "535         0               14        95                  0          18\n",
       "536         0              172        97                  0           2\n",
       "537         0               56        29                  0           6\n",
       "538         0               36        31                  0           2\n",
       "539         0               22        64                  0          21\n",
       "\n",
       "[540 rows x 5 columns]"
      ]
     },
     "execution_count": 183,
     "metadata": {},
     "output_type": "execute_result"
    }
   ],
   "source": [
    "#Remove course_name, name, special_skill & rarity\n",
    "inputs_new = inputs.drop(['course_name', 'name', 'special_skill', 'rarity'],axis='columns')\n",
    "inputs_new"
   ]
  },
  {
   "cell_type": "code",
   "execution_count": 184,
   "id": "9c13e295",
   "metadata": {},
   "outputs": [
    {
     "data": {
      "text/html": [
       "<div>\n",
       "<style scoped>\n",
       "    .dataframe tbody tr th:only-of-type {\n",
       "        vertical-align: middle;\n",
       "    }\n",
       "\n",
       "    .dataframe tbody tr th {\n",
       "        vertical-align: top;\n",
       "    }\n",
       "\n",
       "    .dataframe thead th {\n",
       "        text-align: right;\n",
       "    }\n",
       "</style>\n",
       "<table border=\"1\" class=\"dataframe\">\n",
       "  <thead>\n",
       "    <tr style=\"text-align: right;\">\n",
       "      <th></th>\n",
       "      <th>course_name_new</th>\n",
       "      <th>name_new</th>\n",
       "      <th>special_skill_new</th>\n",
       "      <th>rarity_new</th>\n",
       "    </tr>\n",
       "  </thead>\n",
       "  <tbody>\n",
       "    <tr>\n",
       "      <th>0</th>\n",
       "      <td>46</td>\n",
       "      <td>2</td>\n",
       "      <td>1</td>\n",
       "      <td>3</td>\n",
       "    </tr>\n",
       "    <tr>\n",
       "      <th>1</th>\n",
       "      <td>147</td>\n",
       "      <td>2</td>\n",
       "      <td>1</td>\n",
       "      <td>3</td>\n",
       "    </tr>\n",
       "    <tr>\n",
       "      <th>2</th>\n",
       "      <td>0</td>\n",
       "      <td>3</td>\n",
       "      <td>1</td>\n",
       "      <td>5</td>\n",
       "    </tr>\n",
       "    <tr>\n",
       "      <th>3</th>\n",
       "      <td>6</td>\n",
       "      <td>3</td>\n",
       "      <td>1</td>\n",
       "      <td>5</td>\n",
       "    </tr>\n",
       "    <tr>\n",
       "      <th>4</th>\n",
       "      <td>7</td>\n",
       "      <td>0</td>\n",
       "      <td>1</td>\n",
       "      <td>5</td>\n",
       "    </tr>\n",
       "  </tbody>\n",
       "</table>\n",
       "</div>"
      ],
      "text/plain": [
       "   course_name_new  name_new  special_skill_new  rarity_new\n",
       "0               46         2                  1           3\n",
       "1              147         2                  1           3\n",
       "2                0         3                  1           5\n",
       "3                6         3                  1           5\n",
       "4                7         0                  1           5"
      ]
     },
     "execution_count": 184,
     "metadata": {},
     "output_type": "execute_result"
    }
   ],
   "source": [
    "#Define the feature set\n",
    "X = inputs_new.copy()\n",
    "X = X.drop(\"win_loss\", axis=1)\n",
    "X.head()"
   ]
  },
  {
   "cell_type": "code",
   "execution_count": 185,
   "id": "fe5d1fcf",
   "metadata": {},
   "outputs": [
    {
     "data": {
      "text/plain": [
       "array([1, 1, 1, 1])"
      ]
     },
     "execution_count": 185,
     "metadata": {},
     "output_type": "execute_result"
    }
   ],
   "source": [
    "#Define the target set\n",
    "y = inputs_new[\"win_loss\"].values\n",
    "y[:4]"
   ]
  },
  {
   "cell_type": "code",
   "execution_count": 186,
   "id": "a6a8c6fc",
   "metadata": {},
   "outputs": [],
   "source": [
    "X_train, X_test, y_train, y_test = train_test_split(X, y, random_state=78)"
   ]
  },
  {
   "cell_type": "code",
   "execution_count": 187,
   "id": "e1e6fcc3",
   "metadata": {},
   "outputs": [
    {
     "name": "stdout",
     "output_type": "stream",
     "text": [
      "(405, 4)\n",
      "(135, 4)\n",
      "(405,)\n",
      "(135,)\n"
     ]
    }
   ],
   "source": [
    "# Determine the shape of our training and testing sets.\n",
    "print(X_train.shape)\n",
    "print(X_test.shape)\n",
    "print(y_train.shape)\n",
    "print(y_test.shape)"
   ]
  },
  {
   "cell_type": "code",
   "execution_count": 188,
   "id": "842cbe32",
   "metadata": {},
   "outputs": [],
   "source": [
    "# Splitting into Train and Test sets into an 80/20 split.\n",
    "X_train2, X_test2, y_train2, y_test2 = train_test_split(X, y, random_state=78, train_size=0.80)"
   ]
  },
  {
   "cell_type": "code",
   "execution_count": 189,
   "id": "19d68dbc",
   "metadata": {},
   "outputs": [
    {
     "name": "stdout",
     "output_type": "stream",
     "text": [
      "(432, 4)\n",
      "(108, 4)\n",
      "(432,)\n",
      "(108,)\n"
     ]
    }
   ],
   "source": [
    "# Determine the shape of our training and testing sets.\n",
    "print(X_train2.shape)\n",
    "print(X_test2.shape)\n",
    "print(y_train2.shape)\n",
    "print(y_test2.shape)"
   ]
  },
  {
   "cell_type": "code",
   "execution_count": 190,
   "id": "d9b23436",
   "metadata": {},
   "outputs": [
    {
     "name": "stdout",
     "output_type": "stream",
     "text": [
      "Requirement already satisfied: termcolor in /Users/erikahampton/opt/anaconda3/envs/PythonData/lib/python3.7/site-packages (1.1.0)\n",
      "Note: you may need to restart the kernel to use updated packages.\n"
     ]
    }
   ],
   "source": [
    "pip install termcolor"
   ]
  },
  {
   "cell_type": "code",
   "execution_count": 191,
   "id": "81636c78",
   "metadata": {},
   "outputs": [],
   "source": [
    "import warnings \n",
    "warnings.filterwarnings(\"ignore\")"
   ]
  },
  {
   "cell_type": "code",
   "execution_count": 192,
   "id": "8c867943",
   "metadata": {},
   "outputs": [],
   "source": [
    "import pandas as pd # data processing\n",
    "import numpy as np # working with arrays\n",
    "import matplotlib.pyplot as plt # visualization\n",
    "from matplotlib import rcParams # figure size\n",
    "from termcolor import colored as cl # text customization\n",
    "\n",
    "from sklearn.tree import DecisionTreeClassifier as dtc # tree algorithm\n",
    "from sklearn.model_selection import train_test_split # splitting the data\n",
    "from sklearn.metrics import accuracy_score # model precision\n",
    "from sklearn.tree import plot_tree # tree diagram\n",
    "\n",
    "rcParams['figure.figsize'] = (25, 20)"
   ]
  },
  {
   "cell_type": "code",
   "execution_count": 193,
   "id": "4e27e907",
   "metadata": {},
   "outputs": [
    {
     "name": "stdout",
     "output_type": "stream",
     "text": [
      "\u001b[1mAccuracy of the model is 76%\u001b[0m\n"
     ]
    }
   ],
   "source": [
    "inputs_new = dtc(criterion = 'entropy', max_depth = 3)\n",
    "inputs_new.fit(X_train, y_train)\n",
    "\n",
    "pred_model = model.predict(X_test)\n",
    "\n",
    "print(cl('Accuracy of the model is {:.0%}'.format(accuracy_score(y_test, pred_model)), attrs = ['bold']))\n"
   ]
  },
  {
   "cell_type": "code",
   "execution_count": 194,
   "id": "3149a475",
   "metadata": {},
   "outputs": [],
   "source": [
    "import pandas as pd\n",
    "import numpy as np\n",
    "import matplotlib.pyplot as plt\n",
    "from sklearn.metrics import f1_score\n",
    "from sklearn.model_selection import train_test_split"
   ]
  },
  {
   "cell_type": "code",
   "execution_count": 195,
   "id": "2fc68b52",
   "metadata": {},
   "outputs": [
    {
     "name": "stdout",
     "output_type": "stream",
     "text": [
      "Training Set Evaluation F1-Score=> 1.0\n"
     ]
    }
   ],
   "source": [
    "# Building  Random Forest Classifier\n",
    "from sklearn.ensemble import RandomForestClassifier\n",
    "rfc = RandomForestClassifier(criterion = 'entropy', random_state = 250)\n",
    "rfc.fit(X_train, y_train)\n",
    "\n",
    "# Evaluating on Training set\n",
    "rfc_pred_train = rfc.predict(X_train)\n",
    "print('Training Set Evaluation F1-Score=>',f1_score(y_train,rfc_pred_train))"
   ]
  },
  {
   "cell_type": "code",
   "execution_count": 196,
   "id": "ebe92d9c",
   "metadata": {},
   "outputs": [
    {
     "name": "stdout",
     "output_type": "stream",
     "text": [
      "Testing Set Evaluation F1-Score=> 0.6136363636363635\n"
     ]
    }
   ],
   "source": [
    "# Evaluating on Test set\n",
    "rfc_pred_test = rfc.predict(X_test)\n",
    "print('Testing Set Evaluation F1-Score=>',f1_score(y_test,rfc_pred_test))"
   ]
  },
  {
   "cell_type": "code",
   "execution_count": 197,
   "id": "b107b726",
   "metadata": {},
   "outputs": [],
   "source": [
    "# Creating a StandardScaler instance.\n",
    "scaler = StandardScaler()\n",
    "# Fitting the Standard Scaler with the training data.\n",
    "X_scaler = scaler.fit(X_train)\n",
    "\n",
    "# Scaling the data.\n",
    "X_train_scaled = X_scaler.transform(X_train)\n",
    "X_test_scaled = X_scaler.transform(X_test)"
   ]
  },
  {
   "cell_type": "code",
   "execution_count": 198,
   "id": "07d34f02",
   "metadata": {},
   "outputs": [],
   "source": [
    "# Creating the decision tree classifier instance.\n",
    "model = tree.DecisionTreeClassifier()\n",
    "# Fitting the model.\n",
    "model = model.fit(X_train_scaled, y_train)"
   ]
  },
  {
   "cell_type": "code",
   "execution_count": 199,
   "id": "03dbe957",
   "metadata": {},
   "outputs": [],
   "source": [
    "# Making predictions using the testing data.\n",
    "predictions = model.predict(X_test_scaled)"
   ]
  },
  {
   "cell_type": "code",
   "execution_count": 200,
   "id": "322c8026",
   "metadata": {},
   "outputs": [
    {
     "data": {
      "text/plain": [
       "array([1, 1, 0, 0, 0, 1, 0, 0, 0, 0, 0, 0, 1, 0, 1, 0, 0, 1, 0, 1, 1, 0,\n",
       "       0, 0, 0, 0, 0, 0, 1, 0, 0, 0, 0, 1, 1, 1, 1, 0, 0, 0, 1, 0, 1, 0,\n",
       "       0, 0, 1, 0, 0, 1, 0, 1, 0, 0, 1, 1, 0, 0, 0, 0, 0, 0, 0, 0, 0, 0,\n",
       "       0, 0, 0, 0, 0, 1, 0, 0, 0, 1, 0, 1, 0, 0, 0, 0, 0, 0, 0, 0, 1, 0,\n",
       "       0, 1, 0, 0, 0, 0, 1, 0, 1, 0, 1, 0, 0, 1, 1, 1, 0, 0, 1, 1, 0, 1,\n",
       "       0, 0, 1, 1, 0, 0, 0, 0, 0, 1, 0, 0, 1, 1, 0, 1, 1, 0, 0, 0, 0, 0,\n",
       "       0, 0, 0])"
      ]
     },
     "execution_count": 200,
     "metadata": {},
     "output_type": "execute_result"
    }
   ],
   "source": [
    "predictions"
   ]
  },
  {
   "cell_type": "code",
   "execution_count": 201,
   "id": "5c319e07",
   "metadata": {},
   "outputs": [
    {
     "data": {
      "text/html": [
       "<div>\n",
       "<style scoped>\n",
       "    .dataframe tbody tr th:only-of-type {\n",
       "        vertical-align: middle;\n",
       "    }\n",
       "\n",
       "    .dataframe tbody tr th {\n",
       "        vertical-align: top;\n",
       "    }\n",
       "\n",
       "    .dataframe thead th {\n",
       "        text-align: right;\n",
       "    }\n",
       "</style>\n",
       "<table border=\"1\" class=\"dataframe\">\n",
       "  <thead>\n",
       "    <tr style=\"text-align: right;\">\n",
       "      <th></th>\n",
       "      <th>Predicted 0</th>\n",
       "      <th>Predicted 1</th>\n",
       "    </tr>\n",
       "  </thead>\n",
       "  <tbody>\n",
       "    <tr>\n",
       "      <th>Actual 0</th>\n",
       "      <td>72</td>\n",
       "      <td>14</td>\n",
       "    </tr>\n",
       "    <tr>\n",
       "      <th>Actual 1</th>\n",
       "      <td>22</td>\n",
       "      <td>27</td>\n",
       "    </tr>\n",
       "  </tbody>\n",
       "</table>\n",
       "</div>"
      ],
      "text/plain": [
       "          Predicted 0  Predicted 1\n",
       "Actual 0           72           14\n",
       "Actual 1           22           27"
      ]
     },
     "execution_count": 201,
     "metadata": {},
     "output_type": "execute_result"
    }
   ],
   "source": [
    "# Calculating the confusion matrix\n",
    "cm = confusion_matrix(y_test, predictions)\n",
    "\n",
    "# Create a DataFrame from the confusion matrix.\n",
    "cm_df = pd.DataFrame(\n",
    "    cm, index=[\"Actual 0\", \"Actual 1\"], columns=[\"Predicted 0\", \"Predicted 1\"])\n",
    "\n",
    "cm_df"
   ]
  },
  {
   "cell_type": "code",
   "execution_count": 202,
   "id": "95b7ba30",
   "metadata": {},
   "outputs": [],
   "source": [
    "# Calculating the accuracy score.\n",
    "acc_score = accuracy_score(y_test, predictions)"
   ]
  },
  {
   "cell_type": "code",
   "execution_count": 203,
   "id": "d9a38ae3",
   "metadata": {},
   "outputs": [
    {
     "data": {
      "text/plain": [
       "0.7333333333333333"
      ]
     },
     "execution_count": 203,
     "metadata": {},
     "output_type": "execute_result"
    }
   ],
   "source": [
    "acc_score"
   ]
  },
  {
   "cell_type": "code",
   "execution_count": 204,
   "id": "7cb59d5c",
   "metadata": {},
   "outputs": [
    {
     "name": "stdout",
     "output_type": "stream",
     "text": [
      "Confusion Matrix\n"
     ]
    },
    {
     "data": {
      "text/html": [
       "<div>\n",
       "<style scoped>\n",
       "    .dataframe tbody tr th:only-of-type {\n",
       "        vertical-align: middle;\n",
       "    }\n",
       "\n",
       "    .dataframe tbody tr th {\n",
       "        vertical-align: top;\n",
       "    }\n",
       "\n",
       "    .dataframe thead th {\n",
       "        text-align: right;\n",
       "    }\n",
       "</style>\n",
       "<table border=\"1\" class=\"dataframe\">\n",
       "  <thead>\n",
       "    <tr style=\"text-align: right;\">\n",
       "      <th></th>\n",
       "      <th>Predicted 0</th>\n",
       "      <th>Predicted 1</th>\n",
       "    </tr>\n",
       "  </thead>\n",
       "  <tbody>\n",
       "    <tr>\n",
       "      <th>Actual 0</th>\n",
       "      <td>72</td>\n",
       "      <td>14</td>\n",
       "    </tr>\n",
       "    <tr>\n",
       "      <th>Actual 1</th>\n",
       "      <td>22</td>\n",
       "      <td>27</td>\n",
       "    </tr>\n",
       "  </tbody>\n",
       "</table>\n",
       "</div>"
      ],
      "text/plain": [
       "          Predicted 0  Predicted 1\n",
       "Actual 0           72           14\n",
       "Actual 1           22           27"
      ]
     },
     "metadata": {},
     "output_type": "display_data"
    },
    {
     "name": "stdout",
     "output_type": "stream",
     "text": [
      "Accuracy Score : 0.7333333333333333\n",
      "Classification Report\n",
      "              precision    recall  f1-score   support\n",
      "\n",
      "           0       0.77      0.84      0.80        86\n",
      "           1       0.66      0.55      0.60        49\n",
      "\n",
      "    accuracy                           0.73       135\n",
      "   macro avg       0.71      0.69      0.70       135\n",
      "weighted avg       0.73      0.73      0.73       135\n",
      "\n"
     ]
    }
   ],
   "source": [
    "# Displaying results\n",
    "print(\"Confusion Matrix\")\n",
    "display(cm_df)\n",
    "print(f\"Accuracy Score : {acc_score}\")\n",
    "print(\"Classification Report\")\n",
    "print(classification_report(y_test, predictions))"
   ]
  },
  {
   "cell_type": "code",
   "execution_count": 205,
   "id": "e0bcf486",
   "metadata": {},
   "outputs": [
    {
     "data": {
      "text/plain": [
       "array([0])"
      ]
     },
     "execution_count": 205,
     "metadata": {},
     "output_type": "execute_result"
    }
   ],
   "source": [
    "#Add combination of numbers to predict win=1 or loss=0\n",
    "model.predict([[172,97,0,2]])"
   ]
  },
  {
   "cell_type": "code",
   "execution_count": 206,
   "id": "a41767bd",
   "metadata": {},
   "outputs": [],
   "source": [
    "##ATTEMPTING TO CREATE DECISION TREE IMAGE"
   ]
  },
  {
   "cell_type": "code",
   "execution_count": 207,
   "id": "cf45112f",
   "metadata": {},
   "outputs": [],
   "source": [
    "#pip install six"
   ]
  },
  {
   "cell_type": "code",
   "execution_count": 208,
   "id": "f284b8c9",
   "metadata": {},
   "outputs": [],
   "source": [
    "#from sklearn import tree"
   ]
  },
  {
   "cell_type": "code",
   "execution_count": 209,
   "id": "743a172b",
   "metadata": {},
   "outputs": [],
   "source": [
    "# Importing required packages for visualization\n",
    "#from IPython.display import Image  \n",
    "#from six import StringIO\n",
    "#from sklearn.tree import export_graphviz\n",
    "#import pydotplus, graphviz"
   ]
  },
  {
   "cell_type": "code",
   "execution_count": 212,
   "id": "25d772cb",
   "metadata": {},
   "outputs": [],
   "source": [
    "# plotting tree with max_depth=3\n",
    "#dot_data = StringIO()  \n",
    "\n",
    "#export_graphviz(inputs_new, out_file=dot_data, filled=True, rounded=True,\n",
    "                #feature_names=['course_name_new', \"name_new\", \"special_skill_new\", \"rarity_new\"], \n",
    "                #class_names=['win_loss', \"1\"])\n",
    "\n",
    "#graph = pydotplus.graph_from_inputs_new_data(inputs_new_data.getvalue())\n",
    "#Image(graph.tree_png())"
   ]
  },
  {
   "cell_type": "code",
   "execution_count": 213,
   "id": "35284afb",
   "metadata": {},
   "outputs": [],
   "source": [
    "#model = tree.DecisionTreeClassifier()"
   ]
  },
  {
   "cell_type": "code",
   "execution_count": 214,
   "id": "177d2e3d",
   "metadata": {},
   "outputs": [],
   "source": [
    "#model.fit(inputs_new,target)"
   ]
  },
  {
   "cell_type": "code",
   "execution_count": 215,
   "id": "3f18735a",
   "metadata": {},
   "outputs": [],
   "source": [
    "#model.score(inputs_new,target)"
   ]
  },
  {
   "cell_type": "code",
   "execution_count": null,
   "id": "0e1655e4",
   "metadata": {},
   "outputs": [],
   "source": []
  }
 ],
 "metadata": {
  "kernelspec": {
   "display_name": "Python 3 (ipykernel)",
   "language": "python",
   "name": "python3"
  },
  "language_info": {
   "codemirror_mode": {
    "name": "ipython",
    "version": 3
   },
   "file_extension": ".py",
   "mimetype": "text/x-python",
   "name": "python",
   "nbconvert_exporter": "python",
   "pygments_lexer": "ipython3",
   "version": "3.7.7"
  }
 },
 "nbformat": 4,
 "nbformat_minor": 5
}
